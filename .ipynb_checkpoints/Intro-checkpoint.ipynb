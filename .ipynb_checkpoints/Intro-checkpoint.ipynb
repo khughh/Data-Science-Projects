{
 "cells": [
  {
   "cell_type": "code",
   "execution_count": 1,
   "id": "9aecc923-fbf0-4dfb-ae61-96173ce93b91",
   "metadata": {},
   "outputs": [
    {
     "name": "stdout",
     "output_type": "stream",
     "text": [
      "Hello World\n"
     ]
    }
   ],
   "source": [
    "print(\"Hello World\")"
   ]
  },
  {
   "cell_type": "code",
   "execution_count": 2,
   "id": "2e05dec7-a6c9-40a2-887f-0d480f36dd2d",
   "metadata": {},
   "outputs": [
    {
     "name": "stdout",
     "output_type": "stream",
     "text": [
      "3\n"
     ]
    }
   ],
   "source": [
    "print(1+2)"
   ]
  },
  {
   "cell_type": "code",
   "execution_count": 3,
   "id": "f5a13045-7945-4fc6-95e2-d92668a33a7f",
   "metadata": {},
   "outputs": [
    {
     "name": "stdout",
     "output_type": "stream",
     "text": [
      "4\n"
     ]
    }
   ],
   "source": [
    "print(9-5)"
   ]
  },
  {
   "cell_type": "code",
   "execution_count": 5,
   "id": "6cc34128-9c7c-4502-805a-6bfeaeffabb1",
   "metadata": {},
   "outputs": [
    {
     "name": "stdout",
     "output_type": "stream",
     "text": [
      "1957931370963.0276\n"
     ]
    }
   ],
   "source": [
    "print(9385498703289579083/4793579)"
   ]
  },
  {
   "cell_type": "code",
   "execution_count": 6,
   "id": "9a08874f-4ff4-40d7-bd8a-8a0b3c807061",
   "metadata": {},
   "outputs": [
    {
     "name": "stdout",
     "output_type": "stream",
     "text": [
      "420\n"
     ]
    }
   ],
   "source": [
    "test_var = 400 + 20\n",
    "print(test_var)"
   ]
  },
  {
   "cell_type": "code",
   "execution_count": 8,
   "id": "6fffc929-c5fe-4545-91f2-a1d86c165b26",
   "metadata": {},
   "outputs": [
    {
     "name": "stdout",
     "output_type": "stream",
     "text": [
      "3\n",
      "300\n"
     ]
    }
   ],
   "source": [
    "var1 = 3\n",
    "\n",
    "print(var1)\n",
    "\n",
    "var1 = 300\n",
    "\n",
    "print(var1)\n"
   ]
  },
  {
   "cell_type": "code",
   "execution_count": 9,
   "id": "3d0af372-0315-4539-9c24-a5366a456628",
   "metadata": {},
   "outputs": [
    {
     "name": "stdout",
     "output_type": "stream",
     "text": [
      "420\n",
      "300\n"
     ]
    }
   ],
   "source": [
    "print(test_var)\n",
    "print(var1)"
   ]
  },
  {
   "cell_type": "code",
   "execution_count": null,
   "id": "e3e21528-125f-41b1-a489-483477ba416f",
   "metadata": {},
   "outputs": [],
   "source": []
  }
 ],
 "metadata": {
  "kernelspec": {
   "display_name": "Python 3 (irisarm)",
   "language": "python",
   "name": "irisarm"
  },
  "language_info": {
   "codemirror_mode": {
    "name": "ipython",
    "version": 3
   },
   "file_extension": ".py",
   "mimetype": "text/x-python",
   "name": "python",
   "nbconvert_exporter": "python",
   "pygments_lexer": "ipython3",
   "version": "3.11.13"
  }
 },
 "nbformat": 4,
 "nbformat_minor": 5
}
